{
 "cells": [
  {
   "cell_type": "markdown",
   "metadata": {},
   "source": [
    "# Map, Filter, Reduce, Lambda & Recursion"
   ]
  },
  {
   "cell_type": "markdown",
   "metadata": {},
   "source": [
    "## Tasks Today:\n",
    "\n",
    "1) <b>Lambda Functions</b> <br>\n",
    " &nbsp;&nbsp;&nbsp;&nbsp; a) Syntax <br>\n",
    " &nbsp;&nbsp;&nbsp;&nbsp; b) Saving to a Variable <br>\n",
    " &nbsp;&nbsp;&nbsp;&nbsp; c) Multiple Inputs <br>\n",
    " &nbsp;&nbsp;&nbsp;&nbsp; d) Passing a Lambda into a Function <br>\n",
    " &nbsp;&nbsp;&nbsp;&nbsp; e) Returning a Lambda from a Function <br>\n",
    " &nbsp;&nbsp;&nbsp;&nbsp; f) In-Class Exercise #1 <br>\n",
    "2) <b>Map</b> <br>\n",
    " &nbsp;&nbsp;&nbsp;&nbsp; a) Syntax <br>\n",
    " &nbsp;&nbsp;&nbsp;&nbsp; b) Using Lambda's with Map <br>\n",
    " &nbsp;&nbsp;&nbsp;&nbsp; c) In-Class Exercise #2 <br>\n",
    "3) <b>Filter</b> <br>\n",
    " &nbsp;&nbsp;&nbsp;&nbsp; a) Syntax <br>\n",
    " &nbsp;&nbsp;&nbsp;&nbsp; b) Using Lambda's with Filter <br>\n",
    " &nbsp;&nbsp;&nbsp;&nbsp; c) In-Class Exercise #3 <br>\n",
    "4) <b>Reduce</b> <br>\n",
    " &nbsp;&nbsp;&nbsp;&nbsp; a) Syntax <br>\n",
    " &nbsp;&nbsp;&nbsp;&nbsp; b) Using Lambda's with Reduce <br>\n",
    " &nbsp;&nbsp;&nbsp;&nbsp; c) In-Class Exercise #4 <br>\n",
    "5) <b>Recursion</b> <br>\n",
    " &nbsp;&nbsp;&nbsp;&nbsp; a) Implementing a Base <br>\n",
    " &nbsp;&nbsp;&nbsp;&nbsp; b) Writing a Factorial Function <br>\n",
    " &nbsp;&nbsp;&nbsp;&nbsp; c) In-Class Exercise #5 <br>\n",
    "6) <b>Generators & Iterators</b> <br>\n",
    " &nbsp;&nbsp;&nbsp;&nbsp; a) Yield Keyword <br>\n",
    " &nbsp;&nbsp;&nbsp;&nbsp; b) Inifinite Generator <br>\n",
    " &nbsp;&nbsp;&nbsp;&nbsp; c) In-Class Exercise #6 <br>\n",
    "7) <b>Exercises</b> <br>\n",
    " &nbsp;&nbsp;&nbsp;&nbsp; a) Exercise #1 - Filtering Empty Strings <br>\n",
    " &nbsp;&nbsp;&nbsp;&nbsp; b) Exercise #2 - Sorting with Last Name <br>\n",
    " &nbsp;&nbsp;&nbsp;&nbsp; c) Exercise #3 - Conversion to Farhenheit <br>\n",
    " &nbsp;&nbsp;&nbsp;&nbsp; d) Exercise #4 - Fibonacci Sequence <br>"
   ]
  },
  {
   "cell_type": "markdown",
   "metadata": {},
   "source": [
    "## Lambda Functions <br>\n",
    "<p>Lambda functions... or \"Anonymous Functions\" are referring to inline functions with no name. The keyword lambda denotes the no name function, and executes within a single line. Without saving it to a variable; however, it is not able to be used, unless passed in either as a paramater or within list comprehension.<br>Written as \"(keyword lambda) (one or more inputs) (colon) (function to be executed)\"</p>"
   ]
  },
  {
   "cell_type": "markdown",
   "metadata": {},
   "source": [
    "#### Syntax"
   ]
  },
  {
   "cell_type": "code",
   "execution_count": 1,
   "metadata": {},
   "outputs": [
    {
     "name": "stdout",
     "output_type": "stream",
     "text": [
      "<function add_two at 0x0000024CF6B7A5C0>\n"
     ]
    }
   ],
   "source": [
    "def add_two(x):\n",
    "    return x+2\n",
    "print(add_two)"
   ]
  },
  {
   "cell_type": "code",
   "execution_count": 2,
   "metadata": {},
   "outputs": [
    {
     "data": {
      "text/plain": [
       "<function __main__.<lambda>(x)>"
      ]
     },
     "execution_count": 2,
     "metadata": {},
     "output_type": "execute_result"
    }
   ],
   "source": [
    "# lambda param: one-line function\n",
    "lambda x: x+2"
   ]
  },
  {
   "cell_type": "code",
   "execution_count": 4,
   "metadata": {},
   "outputs": [
    {
     "data": {
      "text/plain": [
       "12"
      ]
     },
     "execution_count": 4,
     "metadata": {},
     "output_type": "execute_result"
    }
   ],
   "source": [
    "add_two(10)"
   ]
  },
  {
   "cell_type": "code",
   "execution_count": null,
   "metadata": {},
   "outputs": [],
   "source": []
  },
  {
   "cell_type": "code",
   "execution_count": 6,
   "metadata": {},
   "outputs": [
    {
     "data": {
      "text/plain": [
       "12"
      ]
     },
     "execution_count": 6,
     "metadata": {},
     "output_type": "execute_result"
    }
   ],
   "source": [
    "# IIFE - Immediately Invoked Function Expression\n",
    "# Execute a lambda function immediately after defining the function\n",
    "# Syntax: (lambda param: expression)(arg)\n",
    "(lambda x: x+2)(10)"
   ]
  },
  {
   "cell_type": "markdown",
   "metadata": {},
   "source": [
    "#### Saving to a Variable"
   ]
  },
  {
   "cell_type": "code",
   "execution_count": 8,
   "metadata": {},
   "outputs": [
    {
     "name": "stdout",
     "output_type": "stream",
     "text": [
      "27\n"
     ]
    }
   ],
   "source": [
    "num=25\n",
    "\n",
    "num_plus_two=(lambda x: x+2)(num)\n",
    "\n",
    "print(num_plus_two)"
   ]
  },
  {
   "cell_type": "code",
   "execution_count": 9,
   "metadata": {},
   "outputs": [
    {
     "data": {
      "text/plain": [
       "25"
      ]
     },
     "execution_count": 9,
     "metadata": {},
     "output_type": "execute_result"
    }
   ],
   "source": [
    "named_lambda=lambda y: y**2\n",
    "named_lambda(5)"
   ]
  },
  {
   "cell_type": "markdown",
   "metadata": {},
   "source": [
    "#### Multiple Inputs"
   ]
  },
  {
   "cell_type": "code",
   "execution_count": 10,
   "metadata": {},
   "outputs": [
    {
     "data": {
      "text/plain": [
       "<function __main__.<lambda>(x, y, z)>"
      ]
     },
     "execution_count": 10,
     "metadata": {},
     "output_type": "execute_result"
    }
   ],
   "source": [
    "# Syntax: lambda param1, param2, etc: expression\n",
    "lambda x, y, z: x*y*z"
   ]
  },
  {
   "cell_type": "code",
   "execution_count": 11,
   "metadata": {},
   "outputs": [
    {
     "data": {
      "text/plain": [
       "24"
      ]
     },
     "execution_count": 11,
     "metadata": {},
     "output_type": "execute_result"
    }
   ],
   "source": [
    "# As an IIFE - (lambda param1, param2, etc: expression)(arg1, arg2, etc.)\n",
    "(lambda x, y, z: x*y*z)(2, 3, 4)"
   ]
  },
  {
   "cell_type": "code",
   "execution_count": 12,
   "metadata": {},
   "outputs": [
    {
     "data": {
      "text/plain": [
       "(1, 2, 3, 4)"
      ]
     },
     "execution_count": 12,
     "metadata": {},
     "output_type": "execute_result"
    }
   ],
   "source": [
    "def accept_args(*args):\n",
    "    return args\n",
    "accept_args(1, 2, 3, 4)"
   ]
  },
  {
   "cell_type": "code",
   "execution_count": 15,
   "metadata": {},
   "outputs": [
    {
     "data": {
      "text/plain": [
       "('a', 'b', 'c')"
      ]
     },
     "execution_count": 15,
     "metadata": {},
     "output_type": "execute_result"
    }
   ],
   "source": [
    "(lambda *args: args)('a', 'b', 'c')"
   ]
  },
  {
   "cell_type": "code",
   "execution_count": 17,
   "metadata": {},
   "outputs": [
    {
     "data": {
      "text/plain": [
       "{'name': 'Zach', 'age': 32, 'city': 'Tallahassee'}"
      ]
     },
     "execution_count": 17,
     "metadata": {},
     "output_type": "execute_result"
    }
   ],
   "source": [
    "(lambda **kwargs: kwargs)(name='Zach', age=32, city='Tallahassee')"
   ]
  },
  {
   "cell_type": "code",
   "execution_count": 19,
   "metadata": {},
   "outputs": [],
   "source": [
    "def some_function(nums):\n",
    "    output=[]\n",
    "    for num in nums:\n",
    "        if num%2==0:\n",
    "            output.append(num)\n",
    "    return output"
   ]
  },
  {
   "cell_type": "code",
   "execution_count": 21,
   "metadata": {},
   "outputs": [
    {
     "data": {
      "text/plain": [
       "[2, 4, 6]"
      ]
     },
     "execution_count": 21,
     "metadata": {},
     "output_type": "execute_result"
    }
   ],
   "source": [
    "(lambda nums: [num for num in nums if num %2==0])([1, 2, 3, 4, 5, 6])"
   ]
  },
  {
   "cell_type": "markdown",
   "metadata": {},
   "source": [
    "#### Passing a Function into a Function"
   ]
  },
  {
   "cell_type": "code",
   "execution_count": 22,
   "metadata": {},
   "outputs": [],
   "source": [
    "def apply_to_each(a_list, f):\n",
    "    \"\"\"print the return value of function f applied to every element on the list\n",
    "\"\"\"\n",
    "    for element in a_list:\n",
    "        f_return=f(element)\n",
    "        print(f_return)"
   ]
  },
  {
   "cell_type": "code",
   "execution_count": 23,
   "metadata": {},
   "outputs": [],
   "source": [
    "def get_first_letter(string):\n",
    "    return string[0]"
   ]
  },
  {
   "cell_type": "code",
   "execution_count": 25,
   "metadata": {},
   "outputs": [],
   "source": [
    "list_of_seasons = ['Winter', 'Spring', 'Summer', 'Fall']"
   ]
  },
  {
   "cell_type": "code",
   "execution_count": 26,
   "metadata": {},
   "outputs": [
    {
     "name": "stdout",
     "output_type": "stream",
     "text": [
      "W\n",
      "S\n",
      "S\n",
      "F\n"
     ]
    }
   ],
   "source": [
    "apply_to_each(list_of_seasons, get_first_letter)"
   ]
  },
  {
   "cell_type": "code",
   "execution_count": 31,
   "metadata": {},
   "outputs": [],
   "source": [
    "def reverse_string(string):\n",
    "    return string[::-1]"
   ]
  },
  {
   "cell_type": "code",
   "execution_count": 32,
   "metadata": {},
   "outputs": [
    {
     "name": "stdout",
     "output_type": "stream",
     "text": [
      "retniW\n",
      "gnirpS\n",
      "remmuS\n",
      "llaF\n"
     ]
    }
   ],
   "source": [
    "apply_to_each(list_of_seasons, reverse_string)"
   ]
  },
  {
   "cell_type": "markdown",
   "metadata": {},
   "source": [
    "#### Passing a Lambda into a Function"
   ]
  },
  {
   "cell_type": "code",
   "execution_count": 34,
   "metadata": {},
   "outputs": [
    {
     "name": "stdout",
     "output_type": "stream",
     "text": [
      "WINTER\n",
      "SPRING\n",
      "SUMMER\n",
      "FALL\n"
     ]
    }
   ],
   "source": [
    "# Call the apply_to_each function, pass in a lambda function as f argument\n",
    "apply_to_each(list_of_seasons, lambda season: season.upper())"
   ]
  },
  {
   "cell_type": "code",
   "execution_count": 36,
   "metadata": {},
   "outputs": [
    {
     "name": "stdout",
     "output_type": "stream",
     "text": [
      "10\n",
      "100\n",
      "30\n",
      "400\n",
      "50\n",
      "900\n"
     ]
    }
   ],
   "source": [
    "apply_to_each([5, 10, 15, 20, 25, 30], lambda num: num **2 if num % 2 == 0 else num *2)"
   ]
  },
  {
   "cell_type": "code",
   "execution_count": 38,
   "metadata": {},
   "outputs": [
    {
     "name": "stdout",
     "output_type": "stream",
     "text": [
      "10\n",
      "100\n",
      "30\n",
      "400\n",
      "50\n",
      "900\n"
     ]
    }
   ],
   "source": [
    "def double_or_square(num):\n",
    "    if num % 2 == 0:\n",
    "        return num ** 2\n",
    "    else:\n",
    "        return num *2\n",
    "apply_to_each([5, 10, 15, 20, 25, 30], double_or_square)"
   ]
  },
  {
   "cell_type": "markdown",
   "metadata": {},
   "source": [
    "#### Returning a Function from a Function"
   ]
  },
  {
   "cell_type": "code",
   "execution_count": 41,
   "metadata": {},
   "outputs": [
    {
     "name": "stdout",
     "output_type": "stream",
     "text": [
      "Hello, Brian\n",
      "This is the inner function Brian from Chicago\n"
     ]
    }
   ],
   "source": [
    "def my_outer_function(name):\n",
    "    print(f\"Hello, {name}\")\n",
    "          \n",
    "    def my_inner_function():\n",
    "          city='Chicago'\n",
    "          print(f\"This is the inner function {name} from {city}\")\n",
    "    my_inner_function()\n",
    "          \n",
    "my_outer_function('Brian')"
   ]
  },
  {
   "cell_type": "code",
   "execution_count": null,
   "metadata": {},
   "outputs": [],
   "source": []
  },
  {
   "cell_type": "code",
   "execution_count": null,
   "metadata": {},
   "outputs": [],
   "source": []
  },
  {
   "cell_type": "code",
   "execution_count": 42,
   "metadata": {},
   "outputs": [
    {
     "name": "stdout",
     "output_type": "stream",
     "text": [
      "Hello, Sarah\n",
      "This is the inner function Sarah from Chicago\n"
     ]
    }
   ],
   "source": [
    "my_outer_return=my_outer_function('Sarah')"
   ]
  },
  {
   "cell_type": "code",
   "execution_count": 43,
   "metadata": {},
   "outputs": [],
   "source": [
    "def my_outer_function2(name):\n",
    "    print(f\"Hello, {name}\")\n",
    "          \n",
    "    def my_inner_function():\n",
    "          city='Chicago'\n",
    "          print(f\"This is the inner function {name} from {city}\")\n",
    "    return my_inner_function\n"
   ]
  },
  {
   "cell_type": "code",
   "execution_count": 45,
   "metadata": {},
   "outputs": [
    {
     "name": "stdout",
     "output_type": "stream",
     "text": [
      "Hello, Brian\n"
     ]
    }
   ],
   "source": [
    "my_outer_return2=my_outer_function2('Brian')"
   ]
  },
  {
   "cell_type": "code",
   "execution_count": 47,
   "metadata": {},
   "outputs": [
    {
     "name": "stdout",
     "output_type": "stream",
     "text": [
      "This is the inner function Brian from Chicago\n"
     ]
    }
   ],
   "source": [
    "my_outer_return2()"
   ]
  },
  {
   "cell_type": "code",
   "execution_count": 49,
   "metadata": {},
   "outputs": [
    {
     "data": {
      "text/plain": [
       "25"
      ]
     },
     "execution_count": 49,
     "metadata": {},
     "output_type": "execute_result"
    }
   ],
   "source": [
    "def create_multiplier(num):\n",
    "    def multiply(x):\n",
    "        return num*x\n",
    "    return multiply\n",
    "five_times=create_multiplier(5)\n",
    "five_times(5)"
   ]
  },
  {
   "cell_type": "code",
   "execution_count": 51,
   "metadata": {},
   "outputs": [
    {
     "data": {
      "text/plain": [
       "9"
      ]
     },
     "execution_count": 51,
     "metadata": {},
     "output_type": "execute_result"
    }
   ],
   "source": [
    "three_times=create_multiplier(3)\n",
    "three_times(3)"
   ]
  },
  {
   "cell_type": "code",
   "execution_count": 53,
   "metadata": {},
   "outputs": [
    {
     "data": {
      "text/plain": [
       "'=================================================='"
      ]
     },
     "execution_count": 53,
     "metadata": {},
     "output_type": "execute_result"
    }
   ],
   "source": [
    "equals_line=create_multiplier('=')\n",
    "equals_line(50)"
   ]
  },
  {
   "cell_type": "markdown",
   "metadata": {},
   "source": [
    "#### Returning a Lambda from a Function"
   ]
  },
  {
   "cell_type": "code",
   "execution_count": 54,
   "metadata": {},
   "outputs": [
    {
     "data": {
      "text/plain": [
       "40"
      ]
     },
     "execution_count": 54,
     "metadata": {},
     "output_type": "execute_result"
    }
   ],
   "source": [
    "def new_multiplier(num):\n",
    "    return lambda x: num*x\n",
    "four_times=new_multiplier(4)\n",
    "four_times(10)"
   ]
  },
  {
   "cell_type": "code",
   "execution_count": 55,
   "metadata": {},
   "outputs": [
    {
     "data": {
      "text/plain": [
       "20"
      ]
     },
     "execution_count": 55,
     "metadata": {},
     "output_type": "execute_result"
    }
   ],
   "source": [
    "four_times(5)"
   ]
  },
  {
   "cell_type": "markdown",
   "metadata": {},
   "source": [
    "#### If Statements within Lambdas"
   ]
  },
  {
   "cell_type": "code",
   "execution_count": 58,
   "metadata": {},
   "outputs": [
    {
     "name": "stdout",
     "output_type": "stream",
     "text": [
      "100\n",
      "144\n"
     ]
    }
   ],
   "source": [
    "def double_or_square(num):\n",
    "    if num % 2 == 0:\n",
    "        return num ** 2\n",
    "    else:\n",
    "        return num *2\n",
    "print(double_or_square(10))\n",
    "print(double_or_square(12))"
   ]
  },
  {
   "cell_type": "code",
   "execution_count": 59,
   "metadata": {},
   "outputs": [],
   "source": [
    "# Ternary: value_if_true if condition else value_if_false\n",
    "def double_or_square(num):\n",
    "    return num==2 if num%2==0 else num*2"
   ]
  },
  {
   "cell_type": "code",
   "execution_count": null,
   "metadata": {},
   "outputs": [],
   "source": [
    "(lambda num: num**2 if nume%2==0 else: num*2)"
   ]
  },
  {
   "cell_type": "code",
   "execution_count": null,
   "metadata": {},
   "outputs": [],
   "source": []
  },
  {
   "cell_type": "markdown",
   "metadata": {},
   "source": [
    "#### In-Class Exercise #1 <br>\n",
    "<p>Write a lambda function that takes in three arguments <code>a</code>,<code>b</code>,<code>c</code> and returns the product of <code>a</code> and the difference of <code>b</code> and <code>c</code></p>"
   ]
  },
  {
   "cell_type": "code",
   "execution_count": 61,
   "metadata": {},
   "outputs": [],
   "source": [
    "# Example 1 \n",
    "# a = 10, b = 5, c = 2\n",
    "# Output: 30\n",
    "\n",
    "# Example 2\n",
    "# a = 20, b = 10, c = 5\n",
    "# Output: 100"
   ]
  },
  {
   "cell_type": "code",
   "execution_count": 67,
   "metadata": {},
   "outputs": [
    {
     "data": {
      "text/plain": [
       "30"
      ]
     },
     "execution_count": 67,
     "metadata": {},
     "output_type": "execute_result"
    }
   ],
   "source": [
    "(lambda a,b,c: a*(b-c))(10, 5, 2)"
   ]
  },
  {
   "cell_type": "code",
   "execution_count": null,
   "metadata": {},
   "outputs": [],
   "source": []
  },
  {
   "cell_type": "markdown",
   "metadata": {},
   "source": [
    "## Map <br>\n",
    "<p>The map function allows you to iterate over an entire list while running a function on each item of the list. This is why the map function works well with lambda's, because it simplifies things and you write less lines of code.<br>The syntax for a map function is \"map(function to be used, list to be used)\"<br>However, you must be careful, as the map function returns a map object, not a list. To turn it into a list we use the list() type conversion.</p>"
   ]
  },
  {
   "cell_type": "code",
   "execution_count": 72,
   "metadata": {},
   "outputs": [
    {
     "name": "stdout",
     "output_type": "stream",
     "text": [
      "Help on class map in module builtins:\n",
      "\n",
      "class map(object)\n",
      " |  map(func, *iterables) --> map object\n",
      " |  \n",
      " |  Make an iterator that computes the function using arguments from\n",
      " |  each of the iterables.  Stops when the shortest iterable is exhausted.\n",
      " |  \n",
      " |  Methods defined here:\n",
      " |  \n",
      " |  __getattribute__(self, name, /)\n",
      " |      Return getattr(self, name).\n",
      " |  \n",
      " |  __iter__(self, /)\n",
      " |      Implement iter(self).\n",
      " |  \n",
      " |  __next__(self, /)\n",
      " |      Implement next(self).\n",
      " |  \n",
      " |  __reduce__(...)\n",
      " |      Return state information for pickling.\n",
      " |  \n",
      " |  ----------------------------------------------------------------------\n",
      " |  Static methods defined here:\n",
      " |  \n",
      " |  __new__(*args, **kwargs) from builtins.type\n",
      " |      Create and return a new object.  See help(type) for accurate signature.\n",
      "\n"
     ]
    }
   ],
   "source": [
    "help(map)"
   ]
  },
  {
   "cell_type": "markdown",
   "metadata": {},
   "source": [
    "#### Syntax"
   ]
  },
  {
   "cell_type": "code",
   "execution_count": 76,
   "metadata": {},
   "outputs": [
    {
     "name": "stdout",
     "output_type": "stream",
     "text": [
      "[7, 34, 79, -1, 2]\n"
     ]
    }
   ],
   "source": [
    "def squared_minus2(num):\n",
    "    return num**2-2\n",
    "numbers=[3, 6, 9, 1, 2]\n",
    "new_nums=[]\n",
    "for num in numbers:\n",
    "    new_num=squared_minus2(num)\n",
    "    new_nums.append(new_num)\n",
    "print(new_nums)"
   ]
  },
  {
   "cell_type": "code",
   "execution_count": 81,
   "metadata": {},
   "outputs": [
    {
     "name": "stdout",
     "output_type": "stream",
     "text": [
      "<map object at 0x0000024CFC47B5E0>\n"
     ]
    }
   ],
   "source": [
    "# map(function, *iterables -> List, Tuple, String, Set, Dictionary, etc)\n",
    "my_map_obj=map(squared_minus2, numbers)\n",
    "print(my_map_obj)"
   ]
  },
  {
   "cell_type": "code",
   "execution_count": 82,
   "metadata": {
    "scrolled": true
   },
   "outputs": [
    {
     "data": {
      "text/plain": [
       "7"
      ]
     },
     "execution_count": 82,
     "metadata": {},
     "output_type": "execute_result"
    }
   ],
   "source": [
    "next(my_map_obj)"
   ]
  },
  {
   "cell_type": "code",
   "execution_count": 83,
   "metadata": {},
   "outputs": [
    {
     "name": "stdout",
     "output_type": "stream",
     "text": [
      "34\n",
      "79\n",
      "-1\n",
      "2\n"
     ]
    }
   ],
   "source": [
    "for num in my_map_obj:\n",
    "    print(num)"
   ]
  },
  {
   "cell_type": "code",
   "execution_count": 84,
   "metadata": {},
   "outputs": [],
   "source": [
    "for num in my_map_obj:\n",
    "    print(num)"
   ]
  },
  {
   "cell_type": "code",
   "execution_count": 87,
   "metadata": {},
   "outputs": [
    {
     "ename": "SyntaxError",
     "evalue": "incomplete input (669385634.py, line 5)",
     "output_type": "error",
     "traceback": [
      "\u001b[1;36m  Cell \u001b[1;32mIn[87], line 5\u001b[1;36m\u001b[0m\n\u001b[1;33m    list(map(multiply, x_values, y_values)\u001b[0m\n\u001b[1;37m                                          ^\u001b[0m\n\u001b[1;31mSyntaxError\u001b[0m\u001b[1;31m:\u001b[0m incomplete input\n"
     ]
    }
   ],
   "source": [
    "x_values=[1, 2, 3, 4, 5]\n",
    "y_values=[10, 20, 30, 40, 50]\n",
    "def multiply(x, y):\n",
    "    return x*y\n",
    "list(map(multiply, x_values, y_values)"
   ]
  },
  {
   "cell_type": "code",
   "execution_count": 89,
   "metadata": {},
   "outputs": [
    {
     "data": {
      "text/plain": [
       "[10, 40, 90, 160, 250, 360, 490, 640, 810]"
      ]
     },
     "execution_count": 89,
     "metadata": {},
     "output_type": "execute_result"
    }
   ],
   "source": [
    "x_values2=[1, 2, 3, 4, 5, 6, 7, 8 , 9]\n",
    "y_values2=[10,20,30,40,50,60,70,80,90]\n",
    "list(map(multiply, x_values2, y_values2))"
   ]
  },
  {
   "cell_type": "code",
   "execution_count": 97,
   "metadata": {},
   "outputs": [
    {
     "name": "stdout",
     "output_type": "stream",
     "text": [
      "[10, 40, 90, 160, 250, 360, 490, 640, 810]\n"
     ]
    }
   ],
   "source": [
    "nums_mult=[]\n",
    "shorter = len(x_values2) if len(x_values2)<len(y_values2) else len(y_values2)\n",
    "for i in range(shorter):\n",
    "    nums_mult.append(multiply(x_values2[i], y_values2[i]))\n",
    "    \n",
    "print(nums_mult)"
   ]
  },
  {
   "cell_type": "markdown",
   "metadata": {},
   "source": [
    "#### Using Lambda's with Map"
   ]
  },
  {
   "cell_type": "code",
   "execution_count": 94,
   "metadata": {},
   "outputs": [
    {
     "name": "stdout",
     "output_type": "stream",
     "text": [
      "['A', 'B', 'C', 'D', 'E']\n"
     ]
    }
   ],
   "source": [
    "letters=['a', 'b','c','d','e']\n",
    "upper_letters=list(map(lambda l: l.upper(), letters))\n",
    "print(upper_letters)"
   ]
  },
  {
   "cell_type": "code",
   "execution_count": null,
   "metadata": {},
   "outputs": [],
   "source": []
  },
  {
   "cell_type": "code",
   "execution_count": null,
   "metadata": {},
   "outputs": [],
   "source": []
  },
  {
   "cell_type": "code",
   "execution_count": null,
   "metadata": {},
   "outputs": [],
   "source": []
  },
  {
   "cell_type": "code",
   "execution_count": null,
   "metadata": {},
   "outputs": [],
   "source": []
  },
  {
   "cell_type": "code",
   "execution_count": null,
   "metadata": {},
   "outputs": [],
   "source": []
  },
  {
   "cell_type": "markdown",
   "metadata": {},
   "source": [
    "#### In-Class Exercise #2 <br>\n",
    "<p>Use the map function to double each number if it is even and halve it if it is odd</p>"
   ]
  },
  {
   "cell_type": "code",
   "execution_count": 104,
   "metadata": {},
   "outputs": [
    {
     "name": "stdout",
     "output_type": "stream",
     "text": [
      "[0.5, 4, 1.5, 8, 2.5, 12, 3.5, 16, 4.5, 20]\n"
     ]
    }
   ],
   "source": [
    "numbers = range(1,11)\n",
    "def double_or_half(number):\n",
    "    if number%2==0:\n",
    "        return number*2\n",
    "    else:\n",
    "        return number/2\n",
    "new=list(map(double_or_half, numbers))\n",
    "print(new)\n",
    "\n",
    "# print(list(map(double_or_half, numbers)))\n",
    "# [0.5, 4, 1.5, 8, 2.5, 12, 3.5, 16, 4.5, 20]\n",
    "\n"
   ]
  },
  {
   "cell_type": "code",
   "execution_count": 105,
   "metadata": {
    "scrolled": true
   },
   "outputs": [
    {
     "name": "stdout",
     "output_type": "stream",
     "text": [
      "[0.5, 4, 1.5, 8, 2.5, 12, 3.5, 16, 4.5, 20]\n"
     ]
    }
   ],
   "source": [
    "new2=list(map(lambda num: num*2 if num%2==0 else num/2, numbers))\n",
    "print(new2)"
   ]
  },
  {
   "cell_type": "code",
   "execution_count": null,
   "metadata": {},
   "outputs": [],
   "source": []
  },
  {
   "cell_type": "markdown",
   "metadata": {},
   "source": [
    "## Filter() <br>\n",
    "<p>Filter's are similar to the map function, where you're able to pass a function argument and a list argument and filter out something from the list based on the conditions passed. Similar to the map function, it returns a filter object, so you need to type convert it to a list()</p>"
   ]
  },
  {
   "cell_type": "code",
   "execution_count": 106,
   "metadata": {},
   "outputs": [
    {
     "name": "stdout",
     "output_type": "stream",
     "text": [
      "Help on class filter in module builtins:\n",
      "\n",
      "class filter(object)\n",
      " |  filter(function or None, iterable) --> filter object\n",
      " |  \n",
      " |  Return an iterator yielding those items of iterable for which function(item)\n",
      " |  is true. If function is None, return the items that are true.\n",
      " |  \n",
      " |  Methods defined here:\n",
      " |  \n",
      " |  __getattribute__(self, name, /)\n",
      " |      Return getattr(self, name).\n",
      " |  \n",
      " |  __iter__(self, /)\n",
      " |      Implement iter(self).\n",
      " |  \n",
      " |  __next__(self, /)\n",
      " |      Implement next(self).\n",
      " |  \n",
      " |  __reduce__(...)\n",
      " |      Return state information for pickling.\n",
      " |  \n",
      " |  ----------------------------------------------------------------------\n",
      " |  Static methods defined here:\n",
      " |  \n",
      " |  __new__(*args, **kwargs) from builtins.type\n",
      " |      Create and return a new object.  See help(type) for accurate signature.\n",
      "\n"
     ]
    }
   ],
   "source": [
    "help(filter)"
   ]
  },
  {
   "cell_type": "markdown",
   "metadata": {},
   "source": [
    "#### Syntax"
   ]
  },
  {
   "cell_type": "code",
   "execution_count": 107,
   "metadata": {},
   "outputs": [
    {
     "name": "stdout",
     "output_type": "stream",
     "text": [
      "[False, False, True, False, True, True, False, False]\n"
     ]
    }
   ],
   "source": [
    "names = ['Bob', 'Billy', 'Alex', 'Barbara', 'Amy', 'Andy', 'Catherine', 'Cameron']\n",
    "\n",
    "def starts_with_a(name):\n",
    "    return name[0]=='A'\n",
    "a_names_map=list(map(starts_with_a, names))\n",
    "print(a_names_map)"
   ]
  },
  {
   "cell_type": "code",
   "execution_count": 108,
   "metadata": {},
   "outputs": [
    {
     "name": "stdout",
     "output_type": "stream",
     "text": [
      "['Alex', 'Amy', 'Andy']\n"
     ]
    }
   ],
   "source": [
    "# Syntax: filter(function_to_apply, iterable -> List,Tuple,Set,Dict,String,etc)\n",
    "a_names_filter=list(filter(starts_with_a, names))\n",
    "print(a_names_filter)"
   ]
  },
  {
   "cell_type": "code",
   "execution_count": 109,
   "metadata": {},
   "outputs": [
    {
     "data": {
      "text/plain": [
       "2"
      ]
     },
     "execution_count": 109,
     "metadata": {},
     "output_type": "execute_result"
    }
   ],
   "source": [
    "nums= [num for num in range(1, 11)]\n",
    "def remainder(num):\n",
    "    return num%3\n",
    "remainder(11)"
   ]
  },
  {
   "cell_type": "code",
   "execution_count": 111,
   "metadata": {},
   "outputs": [
    {
     "name": "stdout",
     "output_type": "stream",
     "text": [
      "[1, 2, 0, 1, 2, 0, 1, 2, 0, 1]\n"
     ]
    }
   ],
   "source": [
    "nums_map=list(map(remainder, nums))\n",
    "print(nums_map)"
   ]
  },
  {
   "cell_type": "code",
   "execution_count": 112,
   "metadata": {},
   "outputs": [
    {
     "name": "stdout",
     "output_type": "stream",
     "text": [
      "[1, 2, 4, 5, 7, 8, 10]\n"
     ]
    }
   ],
   "source": [
    "nums_map=list(filter(remainder, nums))\n",
    "print(nums_map)"
   ]
  },
  {
   "cell_type": "code",
   "execution_count": null,
   "metadata": {},
   "outputs": [],
   "source": []
  },
  {
   "cell_type": "markdown",
   "metadata": {},
   "source": [
    "#### Using Lambda's with Filter()"
   ]
  },
  {
   "cell_type": "code",
   "execution_count": null,
   "metadata": {},
   "outputs": [],
   "source": []
  },
  {
   "cell_type": "code",
   "execution_count": 113,
   "metadata": {},
   "outputs": [
    {
     "name": "stdout",
     "output_type": "stream",
     "text": [
      "['Bob', 'Billy', 'Barbara']\n"
     ]
    }
   ],
   "source": [
    "b_names=list(filter(lambda name: name[0].upper()=='B', names))\n",
    "print(b_names)"
   ]
  },
  {
   "cell_type": "code",
   "execution_count": 114,
   "metadata": {},
   "outputs": [
    {
     "name": "stdout",
     "output_type": "stream",
     "text": [
      "['1', '2', '3', '5', '8', '5', '8', '3', '5', '5', '5', '5', '5', '5', '4', '3', '2', '1']\n"
     ]
    }
   ],
   "source": [
    "sentence=\"I live a 123 Real Street, City, State, 58583. My number is (555)555-4321\"\n",
    "digits=list(filter(lambda char: char.isdigit(), sentence))\n",
    "print(digits)"
   ]
  },
  {
   "cell_type": "markdown",
   "metadata": {},
   "source": [
    "#### In-Class Exercise #3 <br>\n",
    "<p>Write a function that takes in a list of cities as strings and returns a list of cities with at least two words in the name</p>"
   ]
  },
  {
   "cell_type": "code",
   "execution_count": 122,
   "metadata": {},
   "outputs": [
    {
     "name": "stdout",
     "output_type": "stream",
     "text": [
      "['Los Angeles', 'New York City', 'Oklahoma City', 'Baton Rouge']\n"
     ]
    }
   ],
   "source": [
    "cities = ['Chicago', 'Los Angeles', 'New York City', 'Miami', 'Oklahoma City', 'Baton Rouge', 'Boston', 'Denver']\n",
    "print(list(filter(lambda city: ' ' in city, cities)))\n",
    "# Output: [Los Angeles', 'New York City', 'Oklahoma City', 'Baton Rouge'] "
   ]
  },
  {
   "cell_type": "markdown",
   "metadata": {},
   "source": [
    "## Reduce() <br>\n",
    "<p>Be very careful when using this function, as of Python 3 it's been moved to the 'functools' library and no longer is a built-in function.<br>The creator of Python himself, says to just use a for loop instead.</p>"
   ]
  },
  {
   "cell_type": "markdown",
   "metadata": {},
   "source": [
    "#### Syntax"
   ]
  },
  {
   "cell_type": "code",
   "execution_count": 124,
   "metadata": {},
   "outputs": [
    {
     "name": "stdout",
     "output_type": "stream",
     "text": [
      "Help on built-in function reduce in module _functools:\n",
      "\n",
      "reduce(...)\n",
      "    reduce(function, iterable[, initial]) -> value\n",
      "    \n",
      "    Apply a function of two arguments cumulatively to the items of a sequence\n",
      "    or iterable, from left to right, so as to reduce the iterable to a single\n",
      "    value.  For example, reduce(lambda x, y: x+y, [1, 2, 3, 4, 5]) calculates\n",
      "    ((((1+2)+3)+4)+5).  If initial is present, it is placed before the items\n",
      "    of the iterable in the calculation, and serves as a default when the\n",
      "    iterable is empty.\n",
      "\n"
     ]
    }
   ],
   "source": [
    "from functools import reduce\n",
    "help(reduce)"
   ]
  },
  {
   "cell_type": "code",
   "execution_count": 126,
   "metadata": {},
   "outputs": [],
   "source": [
    "def add_nums(x, y):\n",
    "    print(f\"x: {x}\\ny: {y}\\nReturns {x+y}\")\n",
    "    return x+y"
   ]
  },
  {
   "cell_type": "code",
   "execution_count": 127,
   "metadata": {},
   "outputs": [
    {
     "name": "stdout",
     "output_type": "stream",
     "text": [
      "x: 1\n",
      "y: 2\n",
      "Returns 3\n",
      "x: 3\n",
      "y: 3\n",
      "Returns 6\n",
      "x: 6\n",
      "y: 4\n",
      "Returns 10\n",
      "x: 10\n",
      "y: 5\n",
      "Returns 15\n",
      "15\n"
     ]
    }
   ],
   "source": [
    "results_add=reduce(add_nums, [1, 2, 3, 4, 5])\n",
    "print(results_add)"
   ]
  },
  {
   "cell_type": "markdown",
   "metadata": {},
   "source": [
    "#### Using Lambda's with Reduce()"
   ]
  },
  {
   "cell_type": "code",
   "execution_count": 130,
   "metadata": {},
   "outputs": [],
   "source": [
    "def find_max(a, b):\n",
    "    print(f\"a: {a}\\nb: {b}\\nreturns: {a if a>b else b}\")\n",
    "    return a if a>b else b"
   ]
  },
  {
   "cell_type": "code",
   "execution_count": 131,
   "metadata": {},
   "outputs": [
    {
     "name": "stdout",
     "output_type": "stream",
     "text": [
      "a: 19\n",
      "b: 12\n",
      "returns: 19\n",
      "a: 19\n",
      "b: 20\n",
      "returns: 20\n",
      "a: 20\n",
      "b: 33\n",
      "returns: 33\n",
      "a: 33\n",
      "b: 1\n",
      "returns: 33\n",
      "a: 33\n",
      "b: 42\n",
      "returns: 42\n",
      "a: 42\n",
      "b: 6\n",
      "returns: 42\n",
      "a: 42\n",
      "b: 35\n",
      "returns: 42\n",
      "a: 42\n",
      "b: 14\n",
      "returns: 42\n",
      "a: 42\n",
      "b: 5\n",
      "returns: 42\n",
      "42\n"
     ]
    }
   ],
   "source": [
    "from random import randint\n",
    "nums=[randint(1,50) for i in range(10)]\n",
    "max_val=reduce(find_max, nums)\n",
    "print(max_val)"
   ]
  },
  {
   "cell_type": "markdown",
   "metadata": {},
   "source": [
    "#### In-Class Exercise #4 <br>\n",
    "<p>Use the reduce function to multiply the numbers in the list below together with a lambda function.</p>"
   ]
  },
  {
   "cell_type": "code",
   "execution_count": 132,
   "metadata": {},
   "outputs": [],
   "source": [
    "nums = [2, 4, 6, 8, 10]\n",
    "# Output: 3840\n",
    "\n",
    "def multiply(x, y):\n",
    "    return x*y"
   ]
  },
  {
   "cell_type": "code",
   "execution_count": 133,
   "metadata": {},
   "outputs": [
    {
     "name": "stdout",
     "output_type": "stream",
     "text": [
      "3840\n"
     ]
    }
   ],
   "source": [
    "mults=reduce(multiply, nums)\n",
    "print(mults)"
   ]
  },
  {
   "cell_type": "markdown",
   "metadata": {},
   "source": [
    "## Recursion <br>\n",
    "<p>Recursion means that a function is calling itself, so it contanstly executes until a base case is reached. It will then push the returning values back up the chain until the function is complete. A prime example of recursion is computing factorials... such that 5! (factorial) is 5*4*3*2*1 which equals 120.</p>"
   ]
  },
  {
   "cell_type": "code",
   "execution_count": 134,
   "metadata": {},
   "outputs": [
    {
     "name": "stdout",
     "output_type": "stream",
     "text": [
      "Hello Brian Stanton, it sure is beautiful on this Tuesday\n"
     ]
    }
   ],
   "source": [
    "def capitalize(name):\n",
    "    # Takes in a name, upper case the first letter and lower case the rest\n",
    "    return name[0].upper() + name[1:].lower()\n",
    "\n",
    "def full_name(first, last):\n",
    "    # take in a first name, capitalize the first name, take in a last name, capitalize the last name and \n",
    "    # then returns the concatenated string of first + space + last\n",
    "    return capitalize(first) + ' ' + capitalize(last)\n",
    "\n",
    "\n",
    "def greet_person(first_name, last_name, day_of_week):\n",
    "    person_full_name = full_name(first_name, last_name)\n",
    "    print(f\"Hello {person_full_name}, it sure is beautiful on this {capitalize(day_of_week)}\")\n",
    "    \n",
    "greet_person('bRIaN', 'stANtOn', 'tUEsdaY')"
   ]
  },
  {
   "cell_type": "code",
   "execution_count": 136,
   "metadata": {},
   "outputs": [
    {
     "name": "stdout",
     "output_type": "stream",
     "text": [
      "Function Two Started\n",
      "Function One Started\n",
      "Function One Ended\n",
      "Function Two Ended\n"
     ]
    }
   ],
   "source": [
    "import time\n",
    "\n",
    "def func_one():\n",
    "    print(\"Function One Started\")\n",
    "    time.sleep(5)\n",
    "    print(\"Function One Ended\")\n",
    "    \n",
    "    \n",
    "def func_two():\n",
    "    print(\"Function Two Started\")\n",
    "    func_one()\n",
    "    print(\"Function Two Ended\")\n",
    "    \n",
    "    \n",
    "func_two()"
   ]
  },
  {
   "cell_type": "markdown",
   "metadata": {},
   "source": [
    "#### Implementing a Base Case"
   ]
  },
  {
   "cell_type": "code",
   "execution_count": 140,
   "metadata": {},
   "outputs": [
    {
     "name": "stdout",
     "output_type": "stream",
     "text": [
      "add_nums(10)= 10 + add_nums(9)\n",
      "add_nums(9)= 9 + add_nums(8)\n",
      "add_nums(8)= 8 + add_nums(7)\n",
      "add_nums(7)= 7 + add_nums(6)\n",
      "add_nums(6)= 6 + add_nums(5)\n",
      "add_nums(5)= 5 + add_nums(4)\n",
      "add_nums(4)= 4 + add_nums(3)\n",
      "add_nums(3)= 3 + add_nums(2)\n",
      "add_nums(2)= 2 + add_nums(1)\n",
      "add_nums(1)=1\n"
     ]
    },
    {
     "data": {
      "text/plain": [
       "55"
      ]
     },
     "execution_count": 140,
     "metadata": {},
     "output_type": "execute_result"
    }
   ],
   "source": [
    "def add_nums(num):\n",
    "    if num<=1:\n",
    "        print(f\"add_nums({num})={num}\")\n",
    "        return num\n",
    "    else:\n",
    "        print(f\"add_nums({num})= {num} + add_nums({num-1})\")\n",
    "        return num+add_nums(num-1)\n",
    "add_nums(10)"
   ]
  },
  {
   "cell_type": "code",
   "execution_count": 143,
   "metadata": {},
   "outputs": [
    {
     "data": {
      "text/plain": [
       "False"
      ]
     },
     "execution_count": 143,
     "metadata": {},
     "output_type": "execute_result"
    }
   ],
   "source": [
    "\n",
    "def is_even(number):\n",
    "    if number==1:\n",
    "        return False\n",
    "    elif number==0:\n",
    "        return True\n",
    "    else:\n",
    "        return is_even(number-2)\n",
    "is_even(11)"
   ]
  },
  {
   "cell_type": "code",
   "execution_count": null,
   "metadata": {},
   "outputs": [],
   "source": [
    "#Can be used as a way of looping"
   ]
  },
  {
   "cell_type": "code",
   "execution_count": 144,
   "metadata": {},
   "outputs": [
    {
     "name": "stdout",
     "output_type": "stream",
     "text": [
      "red\n",
      "orange\n",
      "green\n",
      "blue\n",
      "red\n"
     ]
    }
   ],
   "source": [
    "def loop(a_list):\n",
    "    if a_list:\n",
    "        print(a_list[0])\n",
    "        loop(a_list[1:])\n",
    "loop(['red', 'orange', 'green', 'blue', 'red'])"
   ]
  },
  {
   "cell_type": "markdown",
   "metadata": {},
   "source": [
    "#### Writing a Factorial Function"
   ]
  },
  {
   "cell_type": "code",
   "execution_count": 146,
   "metadata": {},
   "outputs": [
    {
     "data": {
      "text/plain": [
       "120"
      ]
     },
     "execution_count": 146,
     "metadata": {},
     "output_type": "execute_result"
    }
   ],
   "source": [
    "# 5! = 5 * 4!\n",
    "# 4! = 4 * 3!\n",
    "# ...\n",
    "# 1! = 1\n",
    "\n",
    "#Factorial(x)=x*factorial(x-1)\n",
    "\n",
    "def factorial(x):\n",
    "    if x<=1:\n",
    "        return 1\n",
    "    else:\n",
    "        return x*factorial(x-1)\n",
    "    \n",
    "factorial(5)"
   ]
  },
  {
   "cell_type": "code",
   "execution_count": null,
   "metadata": {
    "scrolled": false
   },
   "outputs": [],
   "source": [
    "#def factorial(x):\n",
    "#    return x*factorial(x-1)\n",
    "# This will break the kernal"
   ]
  },
  {
   "cell_type": "code",
   "execution_count": null,
   "metadata": {},
   "outputs": [],
   "source": [
    "#needs a base case"
   ]
  },
  {
   "cell_type": "markdown",
   "metadata": {},
   "source": [
    "## Generators <br>\n",
    "<p>Generators are a type of iterable, like lists or tuples. They do not allow indexing, but they can still be iterated through with for loops. They are created using functions and the yield statement.</p>"
   ]
  },
  {
   "cell_type": "code",
   "execution_count": 147,
   "metadata": {},
   "outputs": [
    {
     "name": "stdout",
     "output_type": "stream",
     "text": [
      "<map object at 0x0000024CFC4808E0>\n"
     ]
    }
   ],
   "source": [
    "length=map(len, ['Brian', 'Stanton', 'Coding Temple', 'Instructor'])\n",
    "print(length)"
   ]
  },
  {
   "cell_type": "code",
   "execution_count": 148,
   "metadata": {},
   "outputs": [
    {
     "ename": "TypeError",
     "evalue": "'map' object is not subscriptable",
     "output_type": "error",
     "traceback": [
      "\u001b[1;31m---------------------------------------------------------------------------\u001b[0m",
      "\u001b[1;31mTypeError\u001b[0m                                 Traceback (most recent call last)",
      "Cell \u001b[1;32mIn[148], line 1\u001b[0m\n\u001b[1;32m----> 1\u001b[0m length[\u001b[38;5;241m0\u001b[39m]\n",
      "\u001b[1;31mTypeError\u001b[0m: 'map' object is not subscriptable"
     ]
    }
   ],
   "source": [
    "length[0]"
   ]
  },
  {
   "cell_type": "code",
   "execution_count": 149,
   "metadata": {},
   "outputs": [
    {
     "name": "stdout",
     "output_type": "stream",
     "text": [
      "5\n",
      "7\n",
      "13\n",
      "10\n"
     ]
    }
   ],
   "source": [
    "for item in length:\n",
    "    print(item)"
   ]
  },
  {
   "cell_type": "code",
   "execution_count": 151,
   "metadata": {},
   "outputs": [],
   "source": [
    "for item in length:\n",
    "    print(item)"
   ]
  },
  {
   "cell_type": "code",
   "execution_count": 152,
   "metadata": {},
   "outputs": [
    {
     "name": "stdout",
     "output_type": "stream",
     "text": [
      "Help on built-in function iter in module builtins:\n",
      "\n",
      "iter(...)\n",
      "    iter(iterable) -> iterator\n",
      "    iter(callable, sentinel) -> iterator\n",
      "    \n",
      "    Get an iterator from an object.  In the first form, the argument must\n",
      "    supply its own iterator, or be a sequence.\n",
      "    In the second form, the callable is called until it returns the sentinel.\n",
      "\n"
     ]
    }
   ],
   "source": [
    "help(iter)"
   ]
  },
  {
   "cell_type": "code",
   "execution_count": 154,
   "metadata": {},
   "outputs": [
    {
     "name": "stdout",
     "output_type": "stream",
     "text": [
      "<list_iterator object at 0x0000024CFC481A20>\n"
     ]
    }
   ],
   "source": [
    "greetings_list=['hi', 'hello', 'hola', 'bonjour', 'hello', 'salutations', 'aloha', 'salud']\n",
    "\n",
    "list_iter=iter(greetings_list)\n",
    "print(list_iter)"
   ]
  },
  {
   "cell_type": "code",
   "execution_count": 163,
   "metadata": {},
   "outputs": [
    {
     "ename": "StopIteration",
     "evalue": "",
     "output_type": "error",
     "traceback": [
      "\u001b[1;31m---------------------------------------------------------------------------\u001b[0m",
      "\u001b[1;31mStopIteration\u001b[0m                             Traceback (most recent call last)",
      "Cell \u001b[1;32mIn[163], line 1\u001b[0m\n\u001b[1;32m----> 1\u001b[0m \u001b[38;5;28mnext\u001b[39m(list_iter)\n",
      "\u001b[1;31mStopIteration\u001b[0m: "
     ]
    }
   ],
   "source": [
    "next(list_iter)"
   ]
  },
  {
   "cell_type": "markdown",
   "metadata": {},
   "source": [
    "#### Yield Keyword <br>\n",
    "<p>The yield keyword denotes a generator, it doesn't return so it won't leave the function and reset all variables in the function scope, instead it yields the number back to the caller.</p>"
   ]
  },
  {
   "cell_type": "code",
   "execution_count": 181,
   "metadata": {},
   "outputs": [
    {
     "name": "stdout",
     "output_type": "stream",
     "text": [
      "<generator object my_range_iter at 0x0000024CFDD40380>\n"
     ]
    }
   ],
   "source": [
    "def my_range_iter(start, stop, step=1):\n",
    "    while start<stop:\n",
    "        yield start\n",
    "        start+=step\n",
    "\n",
    "my_gen=my_range_iter(0, 10)\n",
    "print(my_gen)"
   ]
  },
  {
   "cell_type": "code",
   "execution_count": 193,
   "metadata": {},
   "outputs": [
    {
     "ename": "StopIteration",
     "evalue": "",
     "output_type": "error",
     "traceback": [
      "\u001b[1;31m---------------------------------------------------------------------------\u001b[0m",
      "\u001b[1;31mStopIteration\u001b[0m                             Traceback (most recent call last)",
      "Cell \u001b[1;32mIn[193], line 1\u001b[0m\n\u001b[1;32m----> 1\u001b[0m \u001b[38;5;28mnext\u001b[39m(my_gen)\n",
      "\u001b[1;31mStopIteration\u001b[0m: "
     ]
    }
   ],
   "source": [
    "next(my_gen)"
   ]
  },
  {
   "cell_type": "code",
   "execution_count": 194,
   "metadata": {},
   "outputs": [
    {
     "name": "stdout",
     "output_type": "stream",
     "text": [
      "10\n",
      "11\n",
      "12\n",
      "13\n",
      "14\n",
      "15\n",
      "16\n",
      "17\n",
      "18\n",
      "19\n"
     ]
    }
   ],
   "source": [
    "for yielded_val in my_range_iter(10, 20):\n",
    "    print(yielded_val)"
   ]
  },
  {
   "cell_type": "code",
   "execution_count": 195,
   "metadata": {},
   "outputs": [
    {
     "name": "stdout",
     "output_type": "stream",
     "text": [
      "0\n",
      "50\n",
      "100\n",
      "150\n",
      "200\n",
      "250\n",
      "300\n",
      "350\n",
      "400\n",
      "450\n",
      "500\n",
      "550\n",
      "600\n",
      "650\n",
      "700\n",
      "750\n",
      "800\n",
      "850\n",
      "900\n",
      "950\n"
     ]
    }
   ],
   "source": [
    "for val in my_range_iter(0,1000,50):\n",
    "    print(val)"
   ]
  },
  {
   "cell_type": "code",
   "execution_count": 197,
   "metadata": {},
   "outputs": [],
   "source": [
    "def read_file(filename):\n",
    "    with open(filename) as large_file:\n",
    "        for line in large_file:\n",
    "            yield line\n",
    "file=read_file('whiteboard.py')"
   ]
  },
  {
   "cell_type": "code",
   "execution_count": 198,
   "metadata": {},
   "outputs": [
    {
     "name": "stdout",
     "output_type": "stream",
     "text": [
      "# You need to write a function, that returns the first non-repeated character in the given string.\n",
      "\n",
      "\n",
      "\n",
      "# If all the characters are unique, return the first character of the string.\n",
      "\n",
      "# If there is no unique character, return None.\n",
      "\n",
      "\n",
      "\n",
      "# You can assume, that the input string has always non-zero length.\n",
      "\n",
      "\n",
      "\n",
      "# Examples\n",
      "\n",
      "# \"test\"   returns \"e\"\n",
      "\n",
      "# \"teeter\" returns \"r\"\n",
      "\n",
      "# \"trend\"  returns \"t\" (all the characters are unique)\n",
      "\n",
      "# \"aabbcc\" returns None (all the characters are repeated)\n",
      "\n",
      "import re\n",
      "\n",
      "def solution(string_in):\n",
      "\n",
      "    no_repeat=re.compile('[A-Za-z]?')\n",
      "\n",
      "    for char in string_in:\n",
      "\n",
      "        if no_repeat.findall(char)==False:\n",
      "\n",
      "            return None\n",
      "\n",
      "        elif no_repeat.findall(char):\n",
      "\n",
      "            return char\n",
      "\n",
      "# solution()        \n",
      "\n"
     ]
    }
   ],
   "source": [
    "for line in file:\n",
    "    print(line)"
   ]
  },
  {
   "cell_type": "markdown",
   "metadata": {},
   "source": [
    "# Exercises"
   ]
  },
  {
   "cell_type": "markdown",
   "metadata": {},
   "source": [
    "### Exercise #1 <br>\n",
    "<p>Filter out all of the empty strings from the list below</p>\n",
    "\n",
    "`Output: ['Argentina', 'San Diego', 'Boston', 'New York']`"
   ]
  },
  {
   "cell_type": "code",
   "execution_count": 7,
   "metadata": {},
   "outputs": [
    {
     "name": "stdout",
     "output_type": "stream",
     "text": [
      "['Argentina', 'San Diego', 'Boston', 'New York']\n"
     ]
    }
   ],
   "source": [
    "import re\n",
    "alphabet=r'[A-Za-z]'\n",
    "places = [\" \",\"Argentina\", \" \", \"San Diego\",\"\",\"  \",\"\",\"Boston\",\"New York\"]\n",
    "def list_filter(place):\n",
    "    return place.strip()\n",
    "filter_places=list(filter(list_filter, places))\n",
    "print(filter_places)"
   ]
  },
  {
   "cell_type": "markdown",
   "metadata": {},
   "source": [
    "### Exercise #2 <br>\n",
    "<p>Write an anonymous function that sorts this list by the last name...(case insensitive)<br><b>Hint: Use the \".sort()\" method and access the key\"</b></p>\n",
    "\n",
    "`Output: ['Victor aNisimov', 'Gary A.J. Bernstein', 'Joel Carter', 'Andrew P. Garfield', 'David hassELHOFF']`"
   ]
  },
  {
   "cell_type": "code",
   "execution_count": 13,
   "metadata": {},
   "outputs": [
    {
     "name": "stdout",
     "output_type": "stream",
     "text": [
      "['Victor aNisimov', 'Gary A.J. Bernstein', 'Joel Carter', 'Andrew P. Garfield', 'David hassELHOFF']\n"
     ]
    }
   ],
   "source": [
    "author = [\"Joel Carter\", \"Victor aNisimov\", \"Andrew P. Garfield\", \"David hassELHOFF\", \"Gary A.J. Bernstein\"]\n",
    "# for name in author:\n",
    "#     print(author.sort(key=name.split(' ')[1]))\n",
    "\n",
    "\n",
    "sorted_authors=sorted(author, key=lambda name: name.split()[-1].lower())\n",
    "print(sorted_authors)"
   ]
  },
  {
   "cell_type": "code",
   "execution_count": 201,
   "metadata": {},
   "outputs": [
    {
     "name": "stdout",
     "output_type": "stream",
     "text": [
      "Help on method_descriptor:\n",
      "\n",
      "sort(self, /, *, key=None, reverse=False)\n",
      "    Sort the list in ascending order and return None.\n",
      "    \n",
      "    The sort is in-place (i.e. the list itself is modified) and stable (i.e. the\n",
      "    order of two equal elements is maintained).\n",
      "    \n",
      "    If a key function is given, apply it once to each list item and sort them,\n",
      "    ascending or descending, according to their function values.\n",
      "    \n",
      "    The reverse flag can be set to sort in descending order.\n",
      "\n"
     ]
    }
   ],
   "source": [
    "help(list.sort)"
   ]
  },
  {
   "cell_type": "code",
   "execution_count": 203,
   "metadata": {},
   "outputs": [
    {
     "name": "stdout",
     "output_type": "stream",
     "text": [
      "['Miami', 'Chicago', 'New York City']\n"
     ]
    }
   ],
   "source": [
    "cities=[\"Chicago\", \"New York City\", \"Miami\"]\n",
    "cities2=sorted(cities, key=len)\n",
    "print(cities2)"
   ]
  },
  {
   "cell_type": "markdown",
   "metadata": {},
   "source": [
    "### Exercise #3 <br>\n",
    "<p>Convert the list below from Celsius to Farhenheit, using the map function with a lambda...</p>\n",
    "\n",
    "`Output: [('Nashua', 89.6), ('Boston', 53.6), ('Los Angeles', 111.2), ('Miami', 84.2)]\n",
    "`"
   ]
  },
  {
   "cell_type": "code",
   "execution_count": 19,
   "metadata": {},
   "outputs": [],
   "source": [
    "# F = (9/5)*C + 32\n",
    "places = [('Nashua',32),(\"Boston\",12),(\"Los Angeles\",44),(\"Miami\",29)]\n",
    "# def fahrenheit(place):\n",
    "#     return place\n",
    "# print(map(lambda place: (9/5)*place[1]+32), places)"
   ]
  },
  {
   "cell_type": "code",
   "execution_count": 51,
   "metadata": {},
   "outputs": [
    {
     "name": "stdout",
     "output_type": "stream",
     "text": [
      "[('Nashua', 89.6), ('Boston', 53.6), ('Los Angeles', 111.2), ('Miami', 84.2)]\n"
     ]
    }
   ],
   "source": [
    "# def farhenheit(cw):\n",
    "#     lambda cw: (9/5)*cw[1]+32\n",
    "print(list(map(lambda cw: (cw[0], (9/5)*cw[1]+32), places)))"
   ]
  },
  {
   "cell_type": "markdown",
   "metadata": {},
   "source": [
    "### Exercise #4 <br>\n",
    "<p>Write a recursion function to perform the fibonacci sequence up to the number passed in.</p>\n",
    "\n",
    "```\n",
    "Output for fib(5) => \n",
    "Iteration 0: 1\n",
    "Iteration 1: 1\n",
    "Iteration 2: 2\n",
    "Iteration 3: 3\n",
    "Iteration 4: 5\n",
    "Iteration 5: 8\n",
    "```"
   ]
  },
  {
   "cell_type": "code",
   "execution_count": 30,
   "metadata": {},
   "outputs": [],
   "source": [
    "def fib(num):\n",
    "    if num<2:\n",
    "        return num\n",
    "    else:\n",
    "        return fib(num-1)+fib(num-2)"
   ]
  },
  {
   "cell_type": "code",
   "execution_count": 31,
   "metadata": {},
   "outputs": [
    {
     "name": "stdout",
     "output_type": "stream",
     "text": [
      "Iteration 0: 0\n",
      "Iteration 1: 1\n",
      "Iteration 2: 1\n",
      "Iteration 3: 2\n",
      "Iteration 4: 3\n",
      "Iteration 5: 5\n"
     ]
    }
   ],
   "source": [
    "n = 6\n",
    "\n",
    "for i in range(n):\n",
    "    print(f\"Iteration {i}: {fib(i)}\")"
   ]
  },
  {
   "cell_type": "markdown",
   "metadata": {},
   "source": [
    "### Exercise #5<br>\n",
    "<p>Create a generator that takes a number argument and yields that number squared down to zero, then call the generator and iterate through and print the result.</p>"
   ]
  },
  {
   "cell_type": "code",
   "execution_count": 46,
   "metadata": {},
   "outputs": [
    {
     "name": "stdout",
     "output_type": "stream",
     "text": [
      "100\n",
      "81\n",
      "64\n",
      "49\n",
      "36\n",
      "25\n",
      "16\n",
      "9\n",
      "4\n",
      "1\n",
      "0\n"
     ]
    }
   ],
   "source": [
    "def generator(num):\n",
    "    while num>=0:\n",
    "        yield num**2\n",
    "        num=num-1\n",
    "for i in generator(10):\n",
    "    print(i)\n",
    "# 100\n",
    "# 81\n",
    "# 64\n",
    "# 49\n",
    "# 36\n",
    "# 25\n",
    "# 16\n",
    "# 9\n",
    "# 4\n",
    "# 2\n",
    "# 1\n",
    "# 0"
   ]
  },
  {
   "cell_type": "code",
   "execution_count": null,
   "metadata": {},
   "outputs": [],
   "source": []
  }
 ],
 "metadata": {
  "kernelspec": {
   "display_name": "Python 3 (ipykernel)",
   "language": "python",
   "name": "python3"
  },
  "language_info": {
   "codemirror_mode": {
    "name": "ipython",
    "version": 3
   },
   "file_extension": ".py",
   "mimetype": "text/x-python",
   "name": "python",
   "nbconvert_exporter": "python",
   "pygments_lexer": "ipython3",
   "version": "3.11.4"
  }
 },
 "nbformat": 4,
 "nbformat_minor": 2
}
